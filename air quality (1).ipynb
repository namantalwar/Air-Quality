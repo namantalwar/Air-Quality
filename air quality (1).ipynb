{
 "cells": [
  {
   "cell_type": "markdown",
   "metadata": {},
   "source": [
    "<h1 align = 'center'>Air Quality</h1>\n",
    "<br>\n",
    "<h3 align = 'center'>Author - Naman Talwar</h3>\n",
    "<br>"
   ]
  },
  {
   "cell_type": "code",
   "execution_count": null,
   "metadata": {},
   "outputs": [],
   "source": [
    "import pandas as pd\n",
    "import numpy as np\n",
    "import seaborn as sns\n",
    "import matplotlib.pyplot as plt\n",
    "import warnings\n",
    "warnings.filterwarnings('ignore')"
   ]
  },
  {
   "cell_type": "code",
   "execution_count": null,
   "metadata": {},
   "outputs": [],
   "source": [
    "data = pd.read_csv(\"air-quality-india.csv\")\n",
    "data.head()"
   ]
  },
  {
   "cell_type": "code",
   "execution_count": null,
   "metadata": {},
   "outputs": [],
   "source": [
    "data.shape"
   ]
  },
  {
   "cell_type": "code",
   "execution_count": null,
   "metadata": {},
   "outputs": [],
   "source": [
    "data.info()"
   ]
  },
  {
   "cell_type": "code",
   "execution_count": null,
   "metadata": {},
   "outputs": [],
   "source": [
    "data.describe().style.background_gradient(cmap = \"Blues\")"
   ]
  },
  {
   "cell_type": "code",
   "execution_count": null,
   "metadata": {},
   "outputs": [],
   "source": [
    "data.isnull().sum()"
   ]
  },
  {
   "cell_type": "code",
   "execution_count": null,
   "metadata": {},
   "outputs": [],
   "source": [
    "data.columns"
   ]
  },
  {
   "cell_type": "code",
   "execution_count": null,
   "metadata": {},
   "outputs": [],
   "source": [
    "data.plot(y=\"PM2.5\",figsize=(15,6))\n",
    "\n",
    "plt.xlabel(\"Timestamp\")\n",
    "plt.ylabel(\"Particulate Matter 2.5\")\n",
    "plt.title(\"PM2.5 With Respect to Time\")\n",
    "\n",
    "plt.show()"
   ]
  },
  {
   "cell_type": "markdown",
   "metadata": {},
   "source": [
    "<br>\n",
    "<h2>Distribution of Particulate Matter by Month and Year</h2>\n"
   ]
  },
  {
   "cell_type": "code",
   "execution_count": null,
   "metadata": {},
   "outputs": [],
   "source": [
    "import plotly.express as px"
   ]
  },
  {
   "cell_type": "code",
   "execution_count": null,
   "metadata": {},
   "outputs": [],
   "source": [
    "fig = px.scatter_3d(data, x = \"Year\", y = \"Month\", z = \"PM2.5\",\n",
    "                    color = \"PM2.5\", color_continuous_scale = [\"#00FF00\", \"#FFC800\", \"#FF0000\", \"#B803BF\"], \n",
    "                    range_color = (-45, 225)) \n",
    "\n",
    "fig.update_traces(marker = dict(size = 3.5)) \n",
    "fig.update_layout(template = \"plotly_dark\", font = dict(family = \"PT Sans\", size = 12))\n",
    "fig.show()"
   ]
  },
  {
   "cell_type": "markdown",
   "metadata": {},
   "source": [
    "<br>\n",
    "<h2>Distribution of Particulate Matter by Day and Month</h3>"
   ]
  },
  {
   "cell_type": "code",
   "execution_count": null,
   "metadata": {},
   "outputs": [],
   "source": [
    "fig = px.scatter_3d(data, x = \"Month\", y = \"Day\", z = \"PM2.5\",\n",
    "                    color = \"PM2.5\", color_continuous_scale = [\"#00FF00\", \"#FFC800\", \"#FF0000\", \"#B803BF\"], \n",
    "                    range_color = (-45, 225)) \n",
    "\n",
    "fig.update_traces(marker = dict(size = 2.5)) \n",
    "fig.update_layout(template = \"plotly_dark\", font = dict(family = \"PT Sans\", size = 12))\n",
    "fig.show()"
   ]
  },
  {
   "cell_type": "markdown",
   "metadata": {},
   "source": [
    "<br>\n",
    "<h2>Distribution of Particulate Matter by Day and Month - Hourwise Animation"
   ]
  },
  {
   "cell_type": "code",
   "execution_count": null,
   "metadata": {},
   "outputs": [],
   "source": [
    "fig = px.scatter_3d(data, x = \"Month\", y = \"Day\", range_z = [0, 250], z = \"PM2.5\",\n",
    "                    color = \"PM2.5\", color_continuous_scale = [\"#00FF00\", \"#FFC800\", \"#FF0000\", \"#B803BF\"],\n",
    "                    animation_frame = \"Hour\", range_color = (-45, 225))\n",
    "\n",
    "fig.update_traces(marker = dict(size = 3.5))\n",
    "fig.update_layout(template = \"plotly_dark\", font = dict(family = \"PT Sans\", size = 12))\n",
    "fig.show()"
   ]
  },
  {
   "cell_type": "markdown",
   "metadata": {},
   "source": [
    "<br>\n",
    "<h2>Distribution of Particulate Matter by Hour and Day</h2>"
   ]
  },
  {
   "cell_type": "code",
   "execution_count": null,
   "metadata": {},
   "outputs": [],
   "source": [
    "fig = px.scatter_3d(data, x = \"Day\", y = \"Hour\", z = \"PM2.5\",\n",
    "                    color = \"PM2.5\", color_continuous_scale = [\"#00FF00\", \"#FFC800\", \"#FF0000\", \"#B803BF\"], \n",
    "                    range_color = (-45, 225)) \n",
    "\n",
    "fig.update_traces(marker = dict(size = 2.5)) \n",
    "fig.update_layout(template = \"plotly_dark\", font = dict(family = \"PT Sans\", size = 12))\n",
    "fig.show()"
   ]
  },
  {
   "cell_type": "markdown",
   "metadata": {},
   "source": [
    "<br>\n",
    "<h2>Distribution of Particulate Matter by Day and Year - Hourwise Animation"
   ]
  },
  {
   "cell_type": "code",
   "execution_count": null,
   "metadata": {},
   "outputs": [],
   "source": [
    "fig = px.scatter_3d(data, x = \"Year\", y = \"Day\", range_z = [0,250], z = \"PM2.5\",\n",
    "                    color = \"PM2.5\", color_continuous_scale = [\"#00FF00\", \"#FFC800\", \"#FF0000\", \"#B803BF\"],\n",
    "                    animation_frame = \"Hour\", range_color = (-45, 225)) # range of color bar\n",
    "\n",
    "fig.update_traces(marker = dict(size = 3.5)) # scaling down the markers\n",
    "fig.update_layout(template = \"plotly_dark\", font = dict(family = \"PT Sans\", size = 12))\n",
    "fig.show()"
   ]
  },
  {
   "cell_type": "markdown",
   "metadata": {},
   "source": [
    "<br>\n",
    "<h2>Boxplot of Particulate Matter Distribution by Year</h3>\n"
   ]
  },
  {
   "cell_type": "code",
   "execution_count": null,
   "metadata": {},
   "outputs": [],
   "source": [
    "fig = px.box(data,x= \"Year\", y= \"PM2.5\",points = \"all\", notched = True,color_discrete_sequence = px.colors.qualitative.Set3, color = \"Year\")\n",
    "\n",
    "fig.update_layout(template = \"plotly_dark\")\n",
    "\n",
    "fig.show()"
   ]
  },
  {
   "cell_type": "code",
   "execution_count": null,
   "metadata": {},
   "outputs": [],
   "source": [
    "fig = px.histogram(data, x = \"Year\", y = \"PM2.5\", color=\"Month\", hover_data = data.columns,\n",
    "                   color_discrete_sequence = px.colors.qualitative.Set3, \n",
    "                   title = \"Sum of PM2.5 Distribution by Year and Month\" )\n",
    "\n",
    "fig.update_layout(template = \"plotly_dark\")\n",
    "fig.show()"
   ]
  },
  {
   "cell_type": "code",
   "execution_count": null,
   "metadata": {},
   "outputs": [],
   "source": [
    "fig = px.box(data, x = \"Month\", y = \"PM2.5\", points = \"all\", color = \"Month\",\n",
    "             color_discrete_sequence = px.colors.qualitative.Set3,\n",
    "             title = \"PM2.5 Distribution by Month\")\n",
    "\n",
    "fig.update_layout(template = \"plotly_dark\")\n",
    "\n",
    "fig.show()"
   ]
  },
  {
   "cell_type": "code",
   "execution_count": null,
   "metadata": {},
   "outputs": [],
   "source": [
    "fig = px.histogram(data, x = \"Month\", y = \"PM2.5\", color=\"Year\", hover_data = data.columns,\n",
    "                   color_discrete_sequence = px.colors.qualitative.Set3, \n",
    "                   title = \"Sum of PM2.5 Distribution by Month and Year\" )\n",
    "\n",
    "fig.update_layout(template = \"plotly_dark\")\n",
    "fig.show()"
   ]
  },
  {
   "cell_type": "code",
   "execution_count": null,
   "metadata": {},
   "outputs": [],
   "source": [
    "fig = px.density_contour(data, x = \"Month\", y = \"PM2.5\", title = \"PM2.5 Density by Month\")\n",
    "\n",
    "fig.update_layout(yaxis_range = [0, 115])\n",
    "fig.update_layout(template = \"plotly_dark\")\n",
    "fig.update_traces(contours_coloring = \"fill\", contours_showlabels = True)\n",
    "fig.show()"
   ]
  },
  {
   "cell_type": "code",
   "execution_count": null,
   "metadata": {},
   "outputs": [],
   "source": [
    "# Here I store years 2018-2021 in a data frame because 2017 and 2022 does not have data from every month\n",
    "df1 = data[data[\"Year\"] > 2017]\n",
    "df2 = df1[df1[\"Year\"] < 2022]\n",
    "\n",
    "for i in range(1, 13):\n",
    "    \n",
    "    df0 = df2[df2[\"Month\"] == i]\n",
    "\n",
    "    fig = px.histogram(df0, x = \"Day\", y = \"PM2.5\", color=\"Year\", hover_data = data.columns,\n",
    "                       color_discrete_sequence = px.colors.qualitative.Pastel, \n",
    "                       title = f\"Daily Sum of PM2.5 in Month {i} (2018-2021)\")\n",
    "    \n",
    "    fig.update_layout(yaxis_range = [0, 11000])\n",
    "    fig.update_layout(template = \"plotly_dark\")\n",
    "\n",
    "    fig.show()"
   ]
  },
  {
   "cell_type": "code",
   "execution_count": null,
   "metadata": {},
   "outputs": [],
   "source": [
    "for i in range(2018, 2022):\n",
    "    \n",
    "    df0 = df2[df2[\"Year\"] == i]\n",
    "\n",
    "    fig = px.histogram(df0, x = \"Hour\", y = \"PM2.5\", color=\"Month\", hover_data = data.columns,\n",
    "                       color_discrete_sequence = px.colors.qualitative.Set3, \n",
    "                       title = f\"Total Sum of PM2.5 in Year: {i} by Hour\")\n",
    "    \n",
    "    fig.update_layout(yaxis_range = [0, 21000])\n",
    "    fig.update_layout(template = \"plotly_dark\", font = dict(family = \"PT Sans\", size = 20))\n",
    "\n",
    "    fig.show()"
   ]
  }
 ],
 "metadata": {
  "kernelspec": {
   "display_name": "Python 3",
   "language": "python",
   "name": "python3"
  },
  "language_info": {
   "codemirror_mode": {
    "name": "ipython",
    "version": 3
   },
   "file_extension": ".py",
   "mimetype": "text/x-python",
   "name": "python",
   "nbconvert_exporter": "python",
   "pygments_lexer": "ipython3",
   "version": "3.6.5"
  }
 },
 "nbformat": 4,
 "nbformat_minor": 2
}
